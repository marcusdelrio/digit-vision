{
 "cells": [
  {
   "cell_type": "code",
   "execution_count": 2,
   "metadata": {
    "collapsed": false
   },
   "outputs": [
    {
     "name": "stdout",
     "output_type": "stream",
     "text": [
      "   label  pixel0  pixel1  pixel2  pixel3  pixel4  pixel5  pixel6  pixel7  \\\n",
      "0      1       0       0       0       0       0       0       0       0   \n",
      "1      0       0       0       0       0       0       0       0       0   \n",
      "2      1       0       0       0       0       0       0       0       0   \n",
      "3      4       0       0       0       0       0       0       0       0   \n",
      "4      0       0       0       0       0       0       0       0       0   \n",
      "\n",
      "   pixel8    ...     pixel774  pixel775  pixel776  pixel777  pixel778  \\\n",
      "0       0    ...            0         0         0         0         0   \n",
      "1       0    ...            0         0         0         0         0   \n",
      "2       0    ...            0         0         0         0         0   \n",
      "3       0    ...            0         0         0         0         0   \n",
      "4       0    ...            0         0         0         0         0   \n",
      "\n",
      "   pixel779  pixel780  pixel781  pixel782  pixel783  \n",
      "0         0         0         0         0         0  \n",
      "1         0         0         0         0         0  \n",
      "2         0         0         0         0         0  \n",
      "3         0         0         0         0         0  \n",
      "4         0         0         0         0         0  \n",
      "\n",
      "[5 rows x 785 columns]\n",
      "   pixel0  pixel1  pixel2  pixel3  pixel4  pixel5  pixel6  pixel7  pixel8  \\\n",
      "0       0       0       0       0       0       0       0       0       0   \n",
      "1       0       0       0       0       0       0       0       0       0   \n",
      "2       0       0       0       0       0       0       0       0       0   \n",
      "3       0       0       0       0       0       0       0       0       0   \n",
      "4       0       0       0       0       0       0       0       0       0   \n",
      "\n",
      "   pixel9    ...     pixel774  pixel775  pixel776  pixel777  pixel778  \\\n",
      "0       0    ...            0         0         0         0         0   \n",
      "1       0    ...            0         0         0         0         0   \n",
      "2       0    ...            0         0         0         0         0   \n",
      "3       0    ...            0         0         0         0         0   \n",
      "4       0    ...            0         0         0         0         0   \n",
      "\n",
      "   pixel779  pixel780  pixel781  pixel782  pixel783  \n",
      "0         0         0         0         0         0  \n",
      "1         0         0         0         0         0  \n",
      "2         0         0         0         0         0  \n",
      "3         0         0         0         0         0  \n",
      "4         0         0         0         0         0  \n",
      "\n",
      "[5 rows x 784 columns]\n"
     ]
    }
   ],
   "source": [
    "train=pd.read_csv('train.csv')\n",
    "print (train.head())\n",
    "\n",
    "test=pd.read_csv('test.csv')\n",
    "print (test.head())"
   ]
  },
  {
   "cell_type": "code",
   "execution_count": 1,
   "metadata": {
    "collapsed": false
   },
   "outputs": [
    {
     "name": "stdout",
     "output_type": "stream",
     "text": [
      "Checking whether there is an H2O instance running at http://localhost:54321. connected.\n"
     ]
    },
    {
     "data": {
      "text/html": [
       "<div style=\"overflow:auto\"><table style=\"width:50%\"><tr><td>H2O cluster uptime:</td>\n",
       "<td>6 hours 47 mins</td></tr>\n",
       "<tr><td>H2O cluster version:</td>\n",
       "<td>3.10.4.2</td></tr>\n",
       "<tr><td>H2O cluster version age:</td>\n",
       "<td>21 days, 3 hours and 26 minutes </td></tr>\n",
       "<tr><td>H2O cluster name:</td>\n",
       "<td>H2O_from_python_marcus_er4bf1</td></tr>\n",
       "<tr><td>H2O cluster total nodes:</td>\n",
       "<td>1</td></tr>\n",
       "<tr><td>H2O cluster free memory:</td>\n",
       "<td>668 Mb</td></tr>\n",
       "<tr><td>H2O cluster total cores:</td>\n",
       "<td>4</td></tr>\n",
       "<tr><td>H2O cluster allowed cores:</td>\n",
       "<td>4</td></tr>\n",
       "<tr><td>H2O cluster status:</td>\n",
       "<td>locked, healthy</td></tr>\n",
       "<tr><td>H2O connection url:</td>\n",
       "<td>http://localhost:54321</td></tr>\n",
       "<tr><td>H2O connection proxy:</td>\n",
       "<td>None</td></tr>\n",
       "<tr><td>H2O internal security:</td>\n",
       "<td>False</td></tr>\n",
       "<tr><td>Python version:</td>\n",
       "<td>3.6.0 final</td></tr></table></div>"
      ],
      "text/plain": [
       "--------------------------  -------------------------------\n",
       "H2O cluster uptime:         6 hours 47 mins\n",
       "H2O cluster version:        3.10.4.2\n",
       "H2O cluster version age:    21 days, 3 hours and 26 minutes\n",
       "H2O cluster name:           H2O_from_python_marcus_er4bf1\n",
       "H2O cluster total nodes:    1\n",
       "H2O cluster free memory:    668 Mb\n",
       "H2O cluster total cores:    4\n",
       "H2O cluster allowed cores:  4\n",
       "H2O cluster status:         locked, healthy\n",
       "H2O connection url:         http://localhost:54321\n",
       "H2O connection proxy:\n",
       "H2O internal security:      False\n",
       "Python version:             3.6.0 final\n",
       "--------------------------  -------------------------------"
      ]
     },
     "metadata": {},
     "output_type": "display_data"
    }
   ],
   "source": [
    "%matplotlib inline\n",
    "import h2o\n",
    "import pandas as pd\n",
    "import numpy as np\n",
    "from matplotlib.pyplot import imshow \n",
    "import matplotlib.pyplot as plt\n",
    "\n",
    "\n",
    "h2o.init()\n",
    "h2o.ls()\n",
    "\n"
   ]
  },
  {
   "cell_type": "code",
   "execution_count": 3,
   "metadata": {
    "collapsed": true
   },
   "outputs": [],
   "source": [
    "h2o.remove_all()\n"
   ]
  },
  {
   "cell_type": "code",
   "execution_count": 4,
   "metadata": {
    "collapsed": false
   },
   "outputs": [],
   "source": [
    "def row_to_image(row):\n",
    "    try:\n",
    "        row=row.drop('label')\n",
    "    except:\n",
    "        pass\n",
    "    to_print=(np.reshape(row.as_matrix(),[28,28]))\n",
    "    return to_print"
   ]
  },
  {
   "cell_type": "code",
   "execution_count": 5,
   "metadata": {
    "collapsed": false
   },
   "outputs": [
    {
     "data": {
      "image/png": "[encoded data removed]",
      "text/plain": [
       "<matplotlib.figure.Figure at 0x7f5f20e367b8>"
      ]
     },
     "metadata": {},
     "output_type": "display_data"
    },
    {
     "data": {
      "image/png": "[encoded data removed]",
      "text/plain": [
       "<matplotlib.figure.Figure at 0x7f5f22950ac8>"
      ]
     },
     "metadata": {},
     "output_type": "display_data"
    },
    {
     "data": {
      "image/png": "[encoded data removed]",
      "text/plain": [
       "<matplotlib.figure.Figure at 0x7f5f22a9efd0>"
      ]
     },
     "metadata": {},
     "output_type": "display_data"
    },
    {
     "data": {
      "image/png": "[encoded data removed]",
      "text/plain": [
       "<matplotlib.figure.Figure at 0x7f5f22950c50>"
      ]
     },
     "metadata": {},
     "output_type": "display_data"
    },
    {
     "data": {
      "image/png": "[encoded data removed]",
      "text/plain": [
       "<matplotlib.figure.Figure at 0x7f5f22aa70b8>"
      ]
     },
     "metadata": {},
     "output_type": "display_data"
    },
    {
     "data": {
      "image/png": "[encoded data removed]",
      "text/plain": [
       "<matplotlib.figure.Figure at 0x7f5f2267eb38>"
      ]
     },
     "metadata": {},
     "output_type": "display_data"
    },
    {
     "data": {
      "image/png": "[encoded data removed]",
      "text/plain": [
       "<matplotlib.figure.Figure at 0x7f5f229f00b8>"
      ]
     },
     "metadata": {},
     "output_type": "display_data"
    },
    {
     "data": {
      "image/png": "[encoded data removed]",
      "text/plain": [
       "<matplotlib.figure.Figure at 0x7f5f224b7dd8>"
      ]
     },
     "metadata": {},
     "output_type": "display_data"
    },
    {
     "data": {
      "image/png": "[encoded data removed]",
      "text/plain": [
       "<matplotlib.figure.Figure at 0x7f5f223bdcf8>"
      ]
     },
     "metadata": {},
     "output_type": "display_data"
    },
    {
     "data": {
      "image/png": "[encoded data removed]",
      "text/plain": [
       "<matplotlib.figure.Figure at 0x7f5f22455d30>"
      ]
     },
     "metadata": {},
     "output_type": "display_data"
    },
    {
     "data": {
      "image/png": "[encoded data removed]",
      "text/plain": [
       "<matplotlib.figure.Figure at 0x7f5f22369f60>"
      ]
     },
     "metadata": {},
     "output_type": "display_data"
    },
    {
     "data": {
      "image/png": "[encoded data removed]",
      "text/plain": [
       "<matplotlib.figure.Figure at 0x7f5f225e6c18>"
      ]
     },
     "metadata": {},
     "output_type": "display_data"
    },
    {
     "data": {
      "image/png": "[encoded data removed]",
      "text/plain": [
       "<matplotlib.figure.Figure at 0x7f5f223b2da0>"
      ]
     },
     "metadata": {},
     "output_type": "display_data"
    },
    {
     "data": {
      "image/png": "[encoded data removed]",
      "text/plain": [
       "<matplotlib.figure.Figure at 0x7f5f22352f98>"
      ]
     },
     "metadata": {},
     "output_type": "display_data"
    },
    {
     "data": {
      "image/png": "[encoded data removed]",
      "text/plain": [
       "<matplotlib.figure.Figure at 0x7f5f223de080>"
      ]
     },
     "metadata": {},
     "output_type": "display_data"
    },
    {
     "data": {
      "image/png": "[encoded data removed]",
      "text/plain": [
       "<matplotlib.figure.Figure at 0x7f5f22431a58>"
      ]
     },
     "metadata": {},
     "output_type": "display_data"
    },
    {
     "data": {
      "image/png": "[encoded data removed]",
      "text/plain": [
       "<matplotlib.figure.Figure at 0x7f5f225ae4a8>"
      ]
     },
     "metadata": {},
     "output_type": "display_data"
    },
    {
     "data": {
      "image/png": "[encoded data removed]",
      "text/plain": [
       "<matplotlib.figure.Figure at 0x7f5f22617cf8>"
      ]
     },
     "metadata": {},
     "output_type": "display_data"
    },
    {
     "data": {
      "image/png": "[encoded data removed]",
      "text/plain": [
       "<matplotlib.figure.Figure at 0x7f5f2231fa58>"
      ]
     },
     "metadata": {},
     "output_type": "display_data"
    },
    {
     "data": {
      "image/png": "[encoded data removed]",
      "text/plain": [
       "<matplotlib.figure.Figure at 0x7f5f22617ac8>"
      ]
     },
     "metadata": {},
     "output_type": "display_data"
    }
   ],
   "source": [
    "images=[row_to_image(i[1]) for i in test.head(20).iterrows()]\n",
    "for image in images:\n",
    "    plt.figure()\n",
    "    plt.imshow(image)\n",
    "    plt.show()\n"
   ]
  },
  {
   "cell_type": "code",
   "execution_count": 6,
   "metadata": {
    "collapsed": false
   },
   "outputs": [
    {
     "name": "stdout",
     "output_type": "stream",
     "text": [
      "Parse progress: |█████████████████████████████████████████████████████████| 100%\n",
      "Parse progress: |█████████████████████████████████████████████████████████| 100%\n"
     ]
    },
    {
     "data": {
      "text/plain": [
       "785"
      ]
     },
     "execution_count": 6,
     "metadata": {},
     "output_type": "execute_result"
    }
   ],
   "source": [
    "train_frame=h2o.H2OFrame(train)\n",
    "test_frame=h2o.H2OFrame(test)\n",
    "train_frame.names\n",
    "len(train_frame.names)\n"
   ]
  },
  {
   "cell_type": "code",
   "execution_count": 7,
   "metadata": {
    "collapsed": false
   },
   "outputs": [],
   "source": [
    "predictors  = list(range(1,785))\n",
    "resp        = 0\n",
    "\n",
    "train_frame[predictors] = train_frame[predictors]\n",
    "train_frame[resp] = train_frame[resp].asfactor()"
   ]
  },
  {
   "cell_type": "code",
   "execution_count": 8,
   "metadata": {
    "collapsed": false
   },
   "outputs": [],
   "source": [
    "split_frames=train_frame.split_frame([0.75])\n",
    "split_train=split_frames[0]\n",
    "split_validation=split_frames[1]"
   ]
  },
  {
   "cell_type": "code",
   "execution_count": 10,
   "metadata": {
    "collapsed": false
   },
   "outputs": [],
   "source": [
    "from h2o.estimators.deeplearning import H2ODeepLearningEstimator\n",
    "from h2o.grid.grid_search import H2OGridSearch"
   ]
  },
  {
   "cell_type": "code",
   "execution_count": 12,
   "metadata": {
    "collapsed": false
   },
   "outputs": [],
   "source": [
    "hyper_parameters = {'activation': [\"rectifier\", \"rectifier_with_dropout\"], \n",
    "                    'hidden':[[200,200,200],[100,100,100],[200,200,200,200,200],[100,100,100,100,100]],\n",
    "                    'input_dropout_ratio':[0.1,0.2,0.3]}"
   ]
  },
  {
   "cell_type": "code",
   "execution_count": 13,
   "metadata": {
    "collapsed": true
   },
   "outputs": [],
   "source": [
    "model4=H2OGridSearch(H2ODeepLearningEstimator(),hyper_parameters)"
   ]
  },
  {
   "cell_type": "code",
   "execution_count": 14,
   "metadata": {
    "collapsed": false
   },
   "outputs": [
    {
     "name": "stdout",
     "output_type": "stream",
     "text": [
      "deeplearning Grid Build progress: |███████████████████████████████████████| 100%\n"
     ]
    }
   ],
   "source": [
    "model4.train(x=predictors,y=resp,training_frame=train_frame)"
   ]
  },
  {
   "cell_type": "code",
   "execution_count": null,
   "metadata": {
    "collapsed": false
   },
   "outputs": [
    {
     "name": "stdout",
     "output_type": "stream",
     "text": [
      "deeplearning Model Build progress: |██████████████████████████████████████| 100%\n"
     ]
    }
   ],
   "source": [
    "#model3.train(x=predictors,y=resp,training_frame=split_train,validation_frame=split_validation)\n",
    "#model3.train(x=predictors,y=resp,training_frame=train_frame)"
   ]
  },
  {
   "cell_type": "code",
   "execution_count": 15,
   "metadata": {
    "collapsed": false
   },
   "outputs": [
    {
     "name": "stdout",
     "output_type": "stream",
     "text": [
      "                activation                     hidden input_dropout_ratio  \\\n",
      "0                Rectifier            [200, 200, 200]                 0.1   \n",
      "1                Rectifier            [100, 100, 100]                 0.1   \n",
      "2                Rectifier            [200, 200, 200]                 0.2   \n",
      "3                Rectifier  [200, 200, 200, 200, 200]                 0.1   \n",
      "4                Rectifier  [200, 200, 200, 200, 200]                 0.2   \n",
      "5                Rectifier  [100, 100, 100, 100, 100]                 0.1   \n",
      "6                Rectifier            [200, 200, 200]                 0.3   \n",
      "7                Rectifier            [100, 100, 100]                 0.2   \n",
      "8                Rectifier  [100, 100, 100, 100, 100]                 0.2   \n",
      "9                Rectifier  [200, 200, 200, 200, 200]                 0.3   \n",
      "10               Rectifier  [100, 100, 100, 100, 100]                 0.3   \n",
      "11               Rectifier            [100, 100, 100]                 0.3   \n",
      "12    RectifierWithDropout            [200, 200, 200]                 0.1   \n",
      "13    RectifierWithDropout            [200, 200, 200]                 0.2   \n",
      "14    RectifierWithDropout  [200, 200, 200, 200, 200]                 0.1   \n",
      "15    RectifierWithDropout            [200, 200, 200]                 0.3   \n",
      "16    RectifierWithDropout  [200, 200, 200, 200, 200]                 0.2   \n",
      "17    RectifierWithDropout  [200, 200, 200, 200, 200]                 0.3   \n",
      "18    RectifierWithDropout            [100, 100, 100]                 0.1   \n",
      "19    RectifierWithDropout            [100, 100, 100]                 0.2   \n",
      "20    RectifierWithDropout            [100, 100, 100]                 0.3   \n",
      "21    RectifierWithDropout  [100, 100, 100, 100, 100]                 0.1   \n",
      "22    RectifierWithDropout  [100, 100, 100, 100, 100]                 0.2   \n",
      "23    RectifierWithDropout  [100, 100, 100, 100, 100]                 0.3   \n",
      "\n",
      "                                                                model_ids  \\\n",
      "0    Grid_DeepLearning_py_4_sid_9369_model_python_1491659026294_5_model_0   \n",
      "1    Grid_DeepLearning_py_4_sid_9369_model_python_1491659026294_5_model_2   \n",
      "2    Grid_DeepLearning_py_4_sid_9369_model_python_1491659026294_5_model_8   \n",
      "3    Grid_DeepLearning_py_4_sid_9369_model_python_1491659026294_5_model_4   \n",
      "4   Grid_DeepLearning_py_4_sid_9369_model_python_1491659026294_5_model_12   \n",
      "5    Grid_DeepLearning_py_4_sid_9369_model_python_1491659026294_5_model_6   \n",
      "6   Grid_DeepLearning_py_4_sid_9369_model_python_1491659026294_5_model_16   \n",
      "7   Grid_DeepLearning_py_4_sid_9369_model_python_1491659026294_5_model_10   \n",
      "8   Grid_DeepLearning_py_4_sid_9369_model_python_1491659026294_5_model_14   \n",
      "9   Grid_DeepLearning_py_4_sid_9369_model_python_1491659026294_5_model_20   \n",
      "10  Grid_DeepLearning_py_4_sid_9369_model_python_1491659026294_5_model_22   \n",
      "11  Grid_DeepLearning_py_4_sid_9369_model_python_1491659026294_5_model_18   \n",
      "12   Grid_DeepLearning_py_4_sid_9369_model_python_1491659026294_5_model_1   \n",
      "13   Grid_DeepLearning_py_4_sid_9369_model_python_1491659026294_5_model_9   \n",
      "14   Grid_DeepLearning_py_4_sid_9369_model_python_1491659026294_5_model_5   \n",
      "15  Grid_DeepLearning_py_4_sid_9369_model_python_1491659026294_5_model_17   \n",
      "16  Grid_DeepLearning_py_4_sid_9369_model_python_1491659026294_5_model_13   \n",
      "17  Grid_DeepLearning_py_4_sid_9369_model_python_1491659026294_5_model_21   \n",
      "18   Grid_DeepLearning_py_4_sid_9369_model_python_1491659026294_5_model_3   \n",
      "19  Grid_DeepLearning_py_4_sid_9369_model_python_1491659026294_5_model_11   \n",
      "20  Grid_DeepLearning_py_4_sid_9369_model_python_1491659026294_5_model_19   \n",
      "21   Grid_DeepLearning_py_4_sid_9369_model_python_1491659026294_5_model_7   \n",
      "22  Grid_DeepLearning_py_4_sid_9369_model_python_1491659026294_5_model_15   \n",
      "23  Grid_DeepLearning_py_4_sid_9369_model_python_1491659026294_5_model_23   \n",
      "\n",
      "                 logloss  \n",
      "0   0.004192652038750767  \n",
      "1    0.01142948578791579  \n",
      "2   0.011733783962886182  \n",
      "3   0.012197150390131388  \n",
      "4    0.01592506134090789  \n",
      "5   0.018071095104789152  \n",
      "6    0.01940142568355868  \n",
      "7   0.020335731387423117  \n",
      "8    0.02319753992271713  \n",
      "9   0.023867778476150927  \n",
      "10   0.03263235030763195  \n",
      "11    0.0364659353388161  \n",
      "12   0.10125712320636582  \n",
      "13   0.10670846049764472  \n",
      "14   0.11551202034738901  \n",
      "15   0.12350970519364271  \n",
      "16   0.12613793203926524  \n",
      "17   0.12867319648801187  \n",
      "18   0.15204941391788104  \n",
      "19   0.16578278307931607  \n",
      "20    0.1753382843740206  \n",
      "21   0.19303347782334157  \n",
      "22   0.19407736928784533  \n",
      "23   0.22818114128879016  \n"
     ]
    }
   ],
   "source": [
    "model4.show()"
   ]
  },
  {
   "cell_type": "code",
   "execution_count": 31,
   "metadata": {
    "collapsed": false,
    "scrolled": false
   },
   "outputs": [],
   "source": [
    "best_model_id=model4.sorted_metric_table().ix[0].model_ids\n",
    "best_model=h2o.get_model(best_model_id)"
   ]
  },
  {
   "cell_type": "code",
   "execution_count": 36,
   "metadata": {
    "collapsed": false
   },
   "outputs": [
    {
     "name": "stdout",
     "output_type": "stream",
     "text": [
      "deeplearning prediction progress: |███████████████████████████████████████| 100%\n"
     ]
    }
   ],
   "source": [
    "preds=best_model.predict(test_frame)[0]"
   ]
  },
  {
   "cell_type": "code",
   "execution_count": 37,
   "metadata": {
    "collapsed": false
   },
   "outputs": [
    {
     "name": "stdout",
     "output_type": "stream",
     "text": [
      "Parse progress: |█████████████████████████████████████████████████████████| 100%\n"
     ]
    },
    {
     "data": {
      "text/html": [
       "<table>\n",
       "<thead>\n",
       "<tr><th style=\"text-align: right;\">  C1</th><th style=\"text-align: right;\">  predict</th></tr>\n",
       "</thead>\n",
       "<tbody>\n",
       "<tr><td style=\"text-align: right;\">   1</td><td style=\"text-align: right;\">        2</td></tr>\n",
       "<tr><td style=\"text-align: right;\">   2</td><td style=\"text-align: right;\">        0</td></tr>\n",
       "<tr><td style=\"text-align: right;\">   3</td><td style=\"text-align: right;\">        9</td></tr>\n",
       "<tr><td style=\"text-align: right;\">   4</td><td style=\"text-align: right;\">        9</td></tr>\n",
       "<tr><td style=\"text-align: right;\">   5</td><td style=\"text-align: right;\">        3</td></tr>\n",
       "<tr><td style=\"text-align: right;\">   6</td><td style=\"text-align: right;\">        9</td></tr>\n",
       "<tr><td style=\"text-align: right;\">   7</td><td style=\"text-align: right;\">        0</td></tr>\n",
       "<tr><td style=\"text-align: right;\">   8</td><td style=\"text-align: right;\">        3</td></tr>\n",
       "<tr><td style=\"text-align: right;\">   9</td><td style=\"text-align: right;\">        0</td></tr>\n",
       "<tr><td style=\"text-align: right;\">  10</td><td style=\"text-align: right;\">        3</td></tr>\n",
       "</tbody>\n",
       "</table>"
      ]
     },
     "metadata": {},
     "output_type": "display_data"
    },
    {
     "name": "stdout",
     "output_type": "stream",
     "text": [
      "\n"
     ]
    }
   ],
   "source": [
    "submission=h2o.H2OFrame(list(range(1,28001))).cbind(preds)\n",
    "print (submission)"
   ]
  },
  {
   "cell_type": "code",
   "execution_count": 38,
   "metadata": {
    "collapsed": false
   },
   "outputs": [
    {
     "name": "stdout",
     "output_type": "stream",
     "text": [
      "Export File progress: |███████████████████████████████████████████████████| 100%\n"
     ]
    }
   ],
   "source": [
    "submission.set_names(['ImageId','Label'])\n",
    "h2o.export_file(submission,'digit_sub-4-7.4.csv')"
   ]
  },
  {
   "cell_type": "code",
   "execution_count": 13,
   "metadata": {
    "collapsed": false
   },
   "outputs": [
    {
     "data": {
      "text/html": [
       "<div>\n",
       "<table border=\"1\" class=\"dataframe\">\n",
       "  <thead>\n",
       "    <tr style=\"text-align: right;\">\n",
       "      <th></th>\n",
       "      <th>key</th>\n",
       "    </tr>\n",
       "  </thead>\n",
       "  <tbody>\n",
       "    <tr>\n",
       "      <th>0</th>\n",
       "      <td>Key_Frame__upload_88dd671fd96f2ffab683f25a7768...</td>\n",
       "    </tr>\n",
       "    <tr>\n",
       "      <th>1</th>\n",
       "      <td>Key_Frame__upload_aedff5dda33fcfe06fe3147c48d2...</td>\n",
       "    </tr>\n",
       "    <tr>\n",
       "      <th>2</th>\n",
       "      <td>py_2_sid_bdab_splitter</td>\n",
       "    </tr>\n",
       "    <tr>\n",
       "      <th>3</th>\n",
       "      <td>py_3_sid_bdab</td>\n",
       "    </tr>\n",
       "    <tr>\n",
       "      <th>4</th>\n",
       "      <td>py_4_sid_bdab</td>\n",
       "    </tr>\n",
       "    <tr>\n",
       "      <th>5</th>\n",
       "      <td>py_8_sid_bdab_splitter</td>\n",
       "    </tr>\n",
       "  </tbody>\n",
       "</table>\n",
       "</div>"
      ],
      "text/plain": [
       "                                                 key\n",
       "0  Key_Frame__upload_88dd671fd96f2ffab683f25a7768...\n",
       "1  Key_Frame__upload_aedff5dda33fcfe06fe3147c48d2...\n",
       "2                             py_2_sid_bdab_splitter\n",
       "3                                      py_3_sid_bdab\n",
       "4                                      py_4_sid_bdab\n",
       "5                             py_8_sid_bdab_splitter"
      ]
     },
     "execution_count": 13,
     "metadata": {},
     "output_type": "execute_result"
    }
   ],
   "source": [
    "h2o.remove_all()"
   ]
  },
  {
   "cell_type": "code",
   "execution_count": 15,
   "metadata": {
    "collapsed": false
   },
   "outputs": [
    {
     "ename": "TypeError",
     "evalue": "'module' object is not callable",
     "output_type": "error",
     "traceback": [
      "\u001b[0;31m---------------------------------------------------------------------------\u001b[0m",
      "\u001b[0;31mTypeError\u001b[0m                                 Traceback (most recent call last)",
      "\u001b[0;32m<ipython-input-15-b2700a6374c4>\u001b[0m in \u001b[0;36m<module>\u001b[0;34m()\u001b[0m\n\u001b[0;32m----> 1\u001b[0;31m \u001b[0mh2o\u001b[0m\u001b[0;34m.\u001b[0m\u001b[0mmodel\u001b[0m\u001b[0;34m(\u001b[0m\u001b[0;34m)\u001b[0m\u001b[0;34m\u001b[0m\u001b[0m\n\u001b[0m",
      "\u001b[0;31mTypeError\u001b[0m: 'module' object is not callable"
     ]
    }
   ],
   "source": []
  },
  {
   "cell_type": "code",
   "execution_count": null,
   "metadata": {
    "collapsed": true
   },
   "outputs": [],
   "source": []
  }
 ],
 "metadata": {
  "kernelspec": {
   "display_name": "Python 3",
   "language": "python",
   "name": "python3"
  },
  "language_info": {
   "codemirror_mode": {
    "name": "ipython",
    "version": 3
   },
   "file_extension": ".py",
   "mimetype": "text/x-python",
   "name": "python",
   "nbconvert_exporter": "python",
   "pygments_lexer": "ipython3",
   "version": "3.6.0"
  },
  "widgets": {
   "state": {},
   "version": "1.1.2"
  }
 },
 "nbformat": 4,
 "nbformat_minor": 2
}
